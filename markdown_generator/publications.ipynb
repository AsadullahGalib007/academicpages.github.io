{
 "cells": [
  {
   "cell_type": "markdown",
   "metadata": {
    "deletable": true,
    "editable": true
   },
   "source": [
    "# Publications markdown generator for academicpages\n",
    "\n",
    "Takes a TSV of publications with metadata and converts them for use with [academicpages.github.io](academicpages.github.io). This is an interactive Jupyter notebook ([see more info here](http://jupyter-notebook-beginner-guide.readthedocs.io/en/latest/what_is_jupyter.html)). The core python code is also in `publications.py`. Run either from the `markdown_generator` folder after replacing `publications.tsv` with one containing your data.\n",
    "\n",
    "TODO: Make this work with BibTex and other databases of citations, rather than Stuart's non-standard TSV format and citation style.\n"
   ]
  },
  {
   "cell_type": "markdown",
   "metadata": {},
   "source": [
    "## Data format\n",
    "\n",
    "The TSV needs to have the following columns: pub_date, title, venue, excerpt, citation, site_url, and paper_url, with a header at the top. \n",
    "\n",
    "- `excerpt` and `paper_url` can be blank, but the others must have values. \n",
    "- `pub_date` must be formatted as YYYY-MM-DD.\n",
    "- `url_slug` will be the descriptive part of the .md file and the permalink URL for the page about the paper. The .md file will be `YYYY-MM-DD-[url_slug].md` and the permalink will be `https://[yourdomain]/publications/YYYY-MM-DD-[url_slug]`\n",
    "\n",
    "This is how the raw file looks (it doesn't look pretty, use a spreadsheet or other program to edit and create)."
   ]
  },
  {
   "cell_type": "code",
   "execution_count": 1,
   "metadata": {
    "collapsed": false
   },
   "outputs": [
    {
     "name": "stdout",
     "output_type": "stream",
     "text": [
      "pub_date\ttitle\tvenue\texcerpt\tcitation\turl_slug\tpaper_url\tslides_url\n",
      "2023-12-13\tEnhanced Brain Tumor Classification from MRI Images Using Deep Learning Model\t2023 26th International Conference on Computer and Information Technology (ICCIT)\tIn the realm of image classification, traditional algorithms, encompassing both machine learning and deep learning, grapple with formidable challenges arising from uneven pixel ranges and dimensionality reduction. This results in a significant impediment to achieving accurate image categorization. Numerous examples of such traditional methods, including KNN, Random Forest, SVM, DNN, CNN etc, have encountered persistent issues such as inefficient performance of feature engineering, limited accuracy, etc. In response to these challenges, this paper introduces a novel image classification method that integrates pixel mapping, DWT, and CNN for improved efficiency and reliability. By resolving irregular pixel ranges through initial pixel mapping, our method establishes uniformity as a foundation for subsequent image analysis. Subsequently, DWT is employed to dissect and reduce image dimensionality, extracting essential features while lowering computational complexity. This two-step preprocessing approach forms a robust foundation for effective data classification. Within this framework, our proposed CNN architecture plays a pivotal role, utilizing both spectral and spatial information to address image categorization challenges. The network’s capacity to learn complex patterns enhances classification accuracy. In extensive evaluations, our methodology surpasses conventional classification techniques, yielding impressive results. With an Overall Accuracy (OA) of 96.9% and a Kappa statistic of 95.16%, our method showcases excellence and practical potential. These compelling achievements underscore the significance of our approach in tackling image classification challenges, paving the way for enhanced precision and efficiency across various domains.\t\"A. B. Rahman, M. Touhid Islam, M. R. Islam, M. Sohrawordi and M. N. Sultan, \"\"Enhanced Brain Tumor Classification from MRI Images Using Deep Learning Model,\"\" 2023 26th International Conference on Computer and Information Technology (ICCIT), Cox's Bazar, Bangladesh, 2023, pp. 1-6, doi: 10.1109/ICCIT60459.2023.10441064. keywords: {Dimensionality reduction;Deep learning;Transfer learning;Feature extraction;Discrete wavelet transforms;Image classification;Tumors;Contrast Enhanced MRI(CE-MRI);Brain Tumor;Discrete Wavelet Transformation(DWT);CNN},\n",
      "\n",
      "\"\tEnhanced-Brain-Tumor-Classification-from-MRI-Images-Using-Deep-Learning-Model\t../files/ICCIT_399.pdf\t../files/399_Presentation_ICCIT_2023.pdf\n"
     ]
    }
   ],
   "source": [
    "!cat publications.tsv"
   ]
  },
  {
   "cell_type": "markdown",
   "metadata": {},
   "source": [
    "## Import pandas\n",
    "\n",
    "We are using the very handy pandas library for dataframes."
   ]
  },
  {
   "cell_type": "code",
   "execution_count": 2,
   "metadata": {
    "collapsed": true,
    "deletable": true,
    "editable": true
   },
   "outputs": [],
   "source": [
    "import pandas as pd"
   ]
  },
  {
   "cell_type": "markdown",
   "metadata": {},
   "source": [
    "## Import TSV\n",
    "\n",
    "Pandas makes this easy with the read_csv function. We are using a TSV, so we specify the separator as a tab, or `\\t`.\n",
    "\n",
    "I found it important to put this data in a tab-separated values format, because there are a lot of commas in this kind of data and comma-separated values can get messed up. However, you can modify the import statement, as pandas also has read_excel(), read_json(), and others."
   ]
  },
  {
   "cell_type": "code",
   "execution_count": 3,
   "metadata": {
    "collapsed": false,
    "deletable": true,
    "editable": true
   },
   "outputs": [
    {
     "data": {
      "text/html": [
       "<div>\n",
       "<style scoped>\n",
       "    .dataframe tbody tr th:only-of-type {\n",
       "        vertical-align: middle;\n",
       "    }\n",
       "\n",
       "    .dataframe tbody tr th {\n",
       "        vertical-align: top;\n",
       "    }\n",
       "\n",
       "    .dataframe thead th {\n",
       "        text-align: right;\n",
       "    }\n",
       "</style>\n",
       "<table border=\"1\" class=\"dataframe\">\n",
       "  <thead>\n",
       "    <tr style=\"text-align: right;\">\n",
       "      <th></th>\n",
       "      <th>pub_date</th>\n",
       "      <th>title</th>\n",
       "      <th>venue</th>\n",
       "      <th>excerpt</th>\n",
       "      <th>citation</th>\n",
       "      <th>url_slug</th>\n",
       "      <th>paper_url</th>\n",
       "      <th>slides_url</th>\n",
       "    </tr>\n",
       "  </thead>\n",
       "  <tbody>\n",
       "    <tr>\n",
       "      <th>0</th>\n",
       "      <td>2023-12-13</td>\n",
       "      <td>Enhanced Brain Tumor Classification from MRI I...</td>\n",
       "      <td>2023 26th International Conference on Computer...</td>\n",
       "      <td>In the realm of image classification, traditio...</td>\n",
       "      <td>A. B. Rahman, M. Touhid Islam, M. R. Islam, M....</td>\n",
       "      <td>Enhanced-Brain-Tumor-Classification-from-MRI-I...</td>\n",
       "      <td>../files/ICCIT_399.pdf</td>\n",
       "      <td>../files/399_Presentation_ICCIT_2023.pdf</td>\n",
       "    </tr>\n",
       "  </tbody>\n",
       "</table>\n",
       "</div>"
      ],
      "text/plain": [
       "     pub_date                                              title  \\\n",
       "0  2023-12-13  Enhanced Brain Tumor Classification from MRI I...   \n",
       "\n",
       "                                               venue  \\\n",
       "0  2023 26th International Conference on Computer...   \n",
       "\n",
       "                                             excerpt  \\\n",
       "0  In the realm of image classification, traditio...   \n",
       "\n",
       "                                            citation  \\\n",
       "0  A. B. Rahman, M. Touhid Islam, M. R. Islam, M....   \n",
       "\n",
       "                                            url_slug               paper_url  \\\n",
       "0  Enhanced-Brain-Tumor-Classification-from-MRI-I...  ../files/ICCIT_399.pdf   \n",
       "\n",
       "                                 slides_url  \n",
       "0  ../files/399_Presentation_ICCIT_2023.pdf  "
      ]
     },
     "execution_count": 3,
     "metadata": {},
     "output_type": "execute_result"
    }
   ],
   "source": [
    "publications = pd.read_csv(\"publications.tsv\", sep=\"\\t\", header=0)\n",
    "publications\n"
   ]
  },
  {
   "cell_type": "markdown",
   "metadata": {},
   "source": [
    "## Escape special characters\n",
    "\n",
    "YAML is very picky about how it takes a valid string, so we are replacing single and double quotes (and ampersands) with their HTML encoded equivilents. This makes them look not so readable in raw format, but they are parsed and rendered nicely."
   ]
  },
  {
   "cell_type": "code",
   "execution_count": 4,
   "metadata": {
    "collapsed": true,
    "deletable": true,
    "editable": true
   },
   "outputs": [],
   "source": [
    "html_escape_table = {\n",
    "    \"&\": \"&amp;\",\n",
    "    '\"': \"&quot;\",\n",
    "    \"'\": \"&apos;\"\n",
    "    }\n",
    "\n",
    "def html_escape(text):\n",
    "    \"\"\"Produce entities within text.\"\"\"\n",
    "    return \"\".join(html_escape_table.get(c,c) for c in text)"
   ]
  },
  {
   "cell_type": "markdown",
   "metadata": {},
   "source": [
    "## Creating the markdown files\n",
    "\n",
    "This is where the heavy lifting is done. This loops through all the rows in the TSV dataframe, then starts to concatentate a big string (```md```) that contains the markdown for each type. It does the YAML metadata first, then does the description for the individual page."
   ]
  },
  {
   "cell_type": "code",
   "execution_count": 5,
   "metadata": {
    "collapsed": false,
    "deletable": true,
    "editable": true
   },
   "outputs": [],
   "source": [
    "import os\n",
    "for row, item in publications.iterrows():\n",
    "    \n",
    "    md_filename = str(item.pub_date) + \"-\" + item.url_slug + \".md\"\n",
    "    html_filename = str(item.pub_date) + \"-\" + item.url_slug\n",
    "    year = item.pub_date[:4]\n",
    "    \n",
    "    ## YAML variables\n",
    "    \n",
    "    md = \"---\\ntitle: \\\"\"   + item.title + '\"\\n'\n",
    "    \n",
    "    md += \"\"\"collection: publications\"\"\"\n",
    "    \n",
    "    md += \"\"\"\\npermalink: /publication/\"\"\" + html_filename\n",
    "    \n",
    "    if len(str(item.excerpt)) > 5:\n",
    "        md += \"\\nexcerpt: '\" + html_escape(item.excerpt) + \"'\"\n",
    "    \n",
    "    md += \"\\ndate: \" + str(item.pub_date) \n",
    "    \n",
    "    md += \"\\nvenue: '\" + html_escape(item.venue) + \"'\"\n",
    "    \n",
    "    if len(str(item.slides_url)) > 5:\n",
    "        md += \"\\nslidesurl: '\" + item.slides_url + \"'\"\n",
    "\n",
    "    if len(str(item.paper_url)) > 5:\n",
    "        md += \"\\npaperurl: '\" + item.paper_url + \"'\"\n",
    "    \n",
    "    md += \"\\ncitation: '\" + html_escape(item.citation) + \"'\"\n",
    "    \n",
    "    md += \"\\n---\"\n",
    "    \n",
    "    ## Markdown description for individual page\n",
    "        \n",
    "    if len(str(item.excerpt)) > 5:\n",
    "        md += \"\\n\" + html_escape(item.excerpt) + \"\\n\"\n",
    "\n",
    "    if len(str(item.slides_url)) > 5:\n",
    "        md += \"\\n[Download slides here](\" + item.slides_url + \")\\n\" \n",
    "\n",
    "    if len(str(item.paper_url)) > 5:\n",
    "        md += \"\\n[Download paper here](\" + item.paper_url + \")\\n\" \n",
    "        \n",
    "    md += \"\\nRecommended citation: \" + item.citation\n",
    "    \n",
    "    md_filename = os.path.basename(md_filename)\n",
    "       \n",
    "    with open(\"../_publications/\" + md_filename, 'w') as f:\n",
    "        f.write(md)"
   ]
  },
  {
   "cell_type": "markdown",
   "metadata": {},
   "source": [
    "These files are in the publications directory, one directory below where we're working from."
   ]
  },
  {
   "cell_type": "code",
   "execution_count": 6,
   "metadata": {
    "collapsed": false,
    "deletable": true,
    "editable": true
   },
   "outputs": [
    {
     "name": "stdout",
     "output_type": "stream",
     "text": [
      "2009-10-01-paper-title-number-1.md\n",
      "2010-10-01-paper-title-number-2.md\n",
      "2015-10-01-paper-title-number-3.md\n",
      "2023-12-13-Enhanced-Brain-Tumor-Classification-from-MRI-Images-Using-Deep-Learning-Model.md\n",
      "2024-02-17-paper-title-number-4.md\n"
     ]
    }
   ],
   "source": [
    "!ls ../_publications/"
   ]
  },
  {
   "cell_type": "code",
   "execution_count": 9,
   "metadata": {
    "collapsed": false,
    "deletable": true,
    "editable": true
   },
   "outputs": [
    {
     "name": "stdout",
     "output_type": "stream",
     "text": [
      "---\n",
      "title: \"Enhanced Brain Tumor Classification from MRI Images Using Deep Learning Model\"\n",
      "collection: publications\n",
      "permalink: /publication/2023-12-13-Enhanced-Brain-Tumor-Classification-from-MRI-Images-Using-Deep-Learning-Model\n",
      "excerpt: 'In the realm of image classification, traditional algorithms, encompassing both machine learning and deep learning, grapple with formidable challenges arising from uneven pixel ranges and dimensionality reduction. This results in a significant impediment to achieving accurate image categorization. Numerous examples of such traditional methods, including KNN, Random Forest, SVM, DNN, CNN etc, have encountered persistent issues such as inefficient performance of feature engineering, limited accuracy, etc. In response to these challenges, this paper introduces a novel image classification method that integrates pixel mapping, DWT, and CNN for improved efficiency and reliability. By resolving irregular pixel ranges through initial pixel mapping, our method establishes uniformity as a foundation for subsequent image analysis. Subsequently, DWT is employed to dissect and reduce image dimensionality, extracting essential features while lowering computational complexity. This two-step preprocessing approach forms a robust foundation for effective data classification. Within this framework, our proposed CNN architecture plays a pivotal role, utilizing both spectral and spatial information to address image categorization challenges. The network’s capacity to learn complex patterns enhances classification accuracy. In extensive evaluations, our methodology surpasses conventional classification techniques, yielding impressive results. With an Overall Accuracy (OA) of 96.9% and a Kappa statistic of 95.16%, our method showcases excellence and practical potential. These compelling achievements underscore the significance of our approach in tackling image classification challenges, paving the way for enhanced precision and efficiency across various domains.'\n",
      "date: 2023-12-13\n",
      "venue: '2023 26th International Conference on Computer and Information Technology (ICCIT)'\n",
      "slidesurl: '../files/399_Presentation_ICCIT_2023.pdf'\n",
      "paperurl: '../files/ICCIT_399.pdf'\n",
      "citation: 'A. B. Rahman, M. Touhid Islam, M. R. Islam, M. Sohrawordi and M. N. Sultan, &quot;Enhanced Brain Tumor Classification from MRI Images Using Deep Learning Model,&quot; 2023 26th International Conference on Computer and Information Technology (ICCIT), Cox&apos;s Bazar, Bangladesh, 2023, pp. 1-6, doi: 10.1109/ICCIT60459.2023.10441064. keywords: {Dimensionality reduction;Deep learning;Transfer learning;Feature extraction;Discrete wavelet transforms;Image classification;Tumors;Contrast Enhanced MRI(CE-MRI);Brain Tumor;Discrete Wavelet Transformation(DWT);CNN},\n",
      "\n",
      "'\n",
      "---\n",
      "In the realm of image classification, traditional algorithms, encompassing both machine learning and deep learning, grapple with formidable challenges arising from uneven pixel ranges and dimensionality reduction. This results in a significant impediment to achieving accurate image categorization. Numerous examples of such traditional methods, including KNN, Random Forest, SVM, DNN, CNN etc, have encountered persistent issues such as inefficient performance of feature engineering, limited accuracy, etc. In response to these challenges, this paper introduces a novel image classification method that integrates pixel mapping, DWT, and CNN for improved efficiency and reliability. By resolving irregular pixel ranges through initial pixel mapping, our method establishes uniformity as a foundation for subsequent image analysis. Subsequently, DWT is employed to dissect and reduce image dimensionality, extracting essential features while lowering computational complexity. This two-step preprocessing approach forms a robust foundation for effective data classification. Within this framework, our proposed CNN architecture plays a pivotal role, utilizing both spectral and spatial information to address image categorization challenges. The network’s capacity to learn complex patterns enhances classification accuracy. In extensive evaluations, our methodology surpasses conventional classification techniques, yielding impressive results. With an Overall Accuracy (OA) of 96.9% and a Kappa statistic of 95.16%, our method showcases excellence and practical potential. These compelling achievements underscore the significance of our approach in tackling image classification challenges, paving the way for enhanced precision and efficiency across various domains.\n",
      "\n",
      "[Download slides here](../files/399_Presentation_ICCIT_2023.pdf)\n",
      "\n",
      "[Download paper here](../files/ICCIT_399.pdf)\n",
      "\n",
      "Recommended citation: A. B. Rahman, M. Touhid Islam, M. R. Islam, M. Sohrawordi and M. N. Sultan, \"Enhanced Brain Tumor Classification from MRI Images Using Deep Learning Model,\" 2023 26th International Conference on Computer and Information Technology (ICCIT), Cox's Bazar, Bangladesh, 2023, pp. 1-6, doi: 10.1109/ICCIT60459.2023.10441064. keywords: {Dimensionality reduction;Deep learning;Transfer learning;Feature extraction;Discrete wavelet transforms;Image classification;Tumors;Contrast Enhanced MRI(CE-MRI);Brain Tumor;Discrete Wavelet Transformation(DWT);CNN},\n",
      "\n"
     ]
    }
   ],
   "source": [
    "!cat ../_publications/2023-12-13-Enhanced-Brain-Tumor-Classification-from-MRI-Images-Using-Deep-Learning-Model.md"
   ]
  }
 ],
 "metadata": {
  "kernelspec": {
   "display_name": "Python 3",
   "language": "python",
   "name": "python3"
  },
  "language_info": {
   "codemirror_mode": {
    "name": "ipython",
    "version": 3
   },
   "file_extension": ".py",
   "mimetype": "text/x-python",
   "name": "python",
   "nbconvert_exporter": "python",
   "pygments_lexer": "ipython3",
   "version": "3.11.9"
  }
 },
 "nbformat": 4,
 "nbformat_minor": 0
}
